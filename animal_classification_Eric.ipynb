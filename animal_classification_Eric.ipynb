{
  "cells": [
    {
      "cell_type": "code",
      "execution_count": 6,
      "metadata": {
        "id": "PvXA5iQcIdVY"
      },
      "outputs": [],
      "source": [
        "import tensorflow as tf\n",
        "from tensorflow.keras.preprocessing.image import ImageDataGenerator\n",
        "import matplotlib.pyplot as plt\n",
        "from tensorflow.keras import applications\n",
        "from tensorflow.keras.models import Sequential, Model, load_model\n",
        "from tensorflow.keras.layers import BatchNormalization, Dropout, Flatten, Dense, Conv2D, MaxPool2D\n",
        "from tensorflow.keras import optimizers\n",
        "from tensorflow.keras.callbacks import ModelCheckpoint\n",
        "from keras.optimizers import SGD\n",
        "from keras.optimizers import Adam\n",
        "from keras.optimizers import RMSprop\n",
        "from sklearn.model_selection import train_test_split\n",
        "import requests\n",
        "from PIL import Image\n",
        "from io import BytesIO\n",
        "from zipfile import ZipFile\n",
        "import cv2\n",
        "import pandas as pd\n",
        "import numpy as np\n",
        "import os"
      ]
    },
    {
      "cell_type": "code",
      "execution_count": 7,
      "metadata": {
        "id": "QY2jYzdKIqqi"
      },
      "outputs": [],
      "source": [
        "translate = {\"cane\": \"Dog\", \"cavallo\": \"Horse\", \"elefante\": \"Elephant\", \"farfalla\": \"Butterfly\", \"gallina\": \"Chicken\", \"gatto\": \"Cat\", \"mucca\": \"Cow\", \"pecora\": \"Sheep\", \"scoiattolo\": \"Squirrel\", \"ragno\": \"Spider\"}"
      ]
    },
    {
      "cell_type": "code",
      "execution_count": 9,
      "metadata": {
        "colab": {
          "base_uri": "https://localhost:8080/"
        },
        "id": "fdXCbaHxyYTq",
        "outputId": "93658125-c61a-4cd9-d6f0-e25aa0b3209b"
      },
      "outputs": [
        {
          "output_type": "stream",
          "name": "stdout",
          "text": [
            "Done\n"
          ]
        }
      ],
      "source": [
        "from zipfile import ZipFile\n",
        "file_name = \"/content/archive.zip\"\n",
        "\n",
        "with ZipFile(file_name, 'r') as zip:\n",
        "  zip.extractall()\n",
        "  print('Done')"
      ]
    },
    {
      "cell_type": "code",
      "execution_count": 14,
      "metadata": {
        "colab": {
          "base_uri": "https://localhost:8080/"
        },
        "id": "aL_QP78RU_Wn",
        "outputId": "1e54d516-20c0-4b6d-aeed-eb916eac906d"
      },
      "outputs": [
        {
          "output_type": "stream",
          "name": "stdout",
          "text": [
            "['pecora', 'gallina', 'ragno', 'gatto', 'scoiattolo', 'mucca', 'cavallo', 'elefante', 'cane', 'farfalla']\n"
          ]
        }
      ],
      "source": [
        "print(os.listdir(\"raw-img/\"))\n",
        "#Extract data from kaggle dataset\n",
        "animalfolders = os.listdir(\"raw-img/\")\n",
        "f1 = []\n",
        "f2 = [] \n",
        "t1 = []\n",
        "t2 = []\n",
        "#Go through each directory and obtain all 10 animal folders\n",
        "for i, directory in enumerate(animalfolders):\n",
        "    filenames = os.listdir(\"raw-img/\" + directory);\n",
        "    count = 0\n",
        "    for file in filenames:\n",
        "        if count < 20000:\n",
        "            f1.append(\"raw-img/\" + directory + \"/\" + file)\n",
        "            t1.append(translate[directory])\n",
        "        else:\n",
        "            f2.append(\"raw-img/\" + directory + \"/\" + file)\n",
        "            t2.append(translate[directory])\n",
        "        count += 1\n",
        "df = pd.DataFrame({'Filepath':f1, 'Target':t1})\n",
        "dft = pd.DataFrame({'Filepath':f2, 'Target':t2})\n",
        "\n",
        "#Takes data and puts it into a train, test, and validation split with 80/10/10 split\n",
        "train, rest = train_test_split(df, test_size=0.2, random_state = 0)\n",
        "valid, test = train_test_split(rest, test_size=0.5, random_state = 0)"
      ]
    },
    {
      "cell_type": "code",
      "execution_count": 15,
      "metadata": {
        "colab": {
          "base_uri": "https://localhost:8080/"
        },
        "id": "kuw2cNV1WqLR",
        "outputId": "bc5b5106-e139-4e78-baa3-8a8412803ae8"
      },
      "outputs": [
        {
          "output_type": "stream",
          "name": "stdout",
          "text": [
            "Found 20943 non-validated image filenames belonging to 10 classes.\n",
            "Found 2618 non-validated image filenames belonging to 10 classes.\n",
            "Found 2618 non-validated image filenames belonging to 10 classes.\n"
          ]
        }
      ],
      "source": [
        "#Utilize ImageDataGenerator in order to generate batches of image data with augmentation\n",
        "animaldata = ImageDataGenerator(rescale=1./255,\n",
        "        shear_range=0.2,\n",
        "        zoom_range=0.2,\n",
        "        horizontal_flip=True,\n",
        "        rotation_range=30, \n",
        "        width_shift_range=0.1,\n",
        "        height_shift_range=0.1,\n",
        "        samplewise_center = True,\n",
        "        )\n",
        "\n",
        "datagen_test = ImageDataGenerator(rescale=1./255, samplewise_center = True)\n",
        "#Takes data and moves it into a flow set\n",
        "train_data = animaldata.flow_from_dataframe(train, x_col = 'Filepath', y_col = 'Target', target_size=(224, 224), interpolation = 'lanczos', validate_filenames = False)\n",
        "test_data = animaldata.flow_from_dataframe(test, x_col = 'Filepath', y_col = 'Target', target_size=(224, 224), interpolation = 'lanczos', validate_filenames = False)\n",
        "valid_data = animaldata.flow_from_dataframe(valid, x_col = 'Filepath', y_col = 'Target', target_size=(224,224), interpolation = 'lanczos', validate_filenames = False)"
      ]
    },
    {
      "cell_type": "code",
      "execution_count": 20,
      "metadata": {
        "colab": {
          "base_uri": "https://localhost:8080/"
        },
        "id": "or0wnk_LcWz8",
        "outputId": "72155493-085f-4a0a-a2ea-0db33670bc8c"
      },
      "outputs": [
        {
          "output_type": "stream",
          "name": "stdout",
          "text": [
            "Model: \"sequential_3\"\n",
            "_________________________________________________________________\n",
            " Layer (type)                Output Shape              Param #   \n",
            "=================================================================\n",
            " conv2d_36 (Conv2D)          (None, 224, 224, 64)      1792      \n",
            "                                                                 \n",
            " max_pooling2d_15 (MaxPoolin  (None, 112, 112, 64)     0         \n",
            " g2D)                                                            \n",
            "                                                                 \n",
            " conv2d_37 (Conv2D)          (None, 112, 112, 128)     73856     \n",
            "                                                                 \n",
            " max_pooling2d_16 (MaxPoolin  (None, 56, 56, 128)      0         \n",
            " g2D)                                                            \n",
            "                                                                 \n",
            " conv2d_38 (Conv2D)          (None, 56, 56, 256)       295168    \n",
            "                                                                 \n",
            " max_pooling2d_17 (MaxPoolin  (None, 28, 28, 256)      0         \n",
            " g2D)                                                            \n",
            "                                                                 \n",
            " conv2d_39 (Conv2D)          (None, 28, 28, 512)       1180160   \n",
            "                                                                 \n",
            " max_pooling2d_18 (MaxPoolin  (None, 14, 14, 512)      0         \n",
            " g2D)                                                            \n",
            "                                                                 \n",
            " flatten_3 (Flatten)         (None, 100352)            0         \n",
            "                                                                 \n",
            " dropout_6 (Dropout)         (None, 100352)            0         \n",
            "                                                                 \n",
            " dense_6 (Dense)             (None, 256)               25690368  \n",
            "                                                                 \n",
            " dropout_7 (Dropout)         (None, 256)               0         \n",
            "                                                                 \n",
            " dense_7 (Dense)             (None, 10)                2570      \n",
            "                                                                 \n",
            "=================================================================\n",
            "Total params: 27,243,914\n",
            "Trainable params: 27,243,914\n",
            "Non-trainable params: 0\n",
            "_________________________________________________________________\n"
          ]
        }
      ],
      "source": [
        "# Building the CNN model\n",
        "model = Sequential()\n",
        "\n",
        "model.add(Conv2D(input_shape=(224,224,3),filters=64,kernel_size=(3,3),padding=\"same\", activation=\"relu\"))\n",
        "model.add(MaxPool2D(pool_size=(2,2),strides=(2,2)))\n",
        "\n",
        "model.add(Conv2D(filters=128, kernel_size=(3,3), padding=\"same\", activation=\"relu\"))\n",
        "model.add(MaxPool2D(pool_size=(2,2),strides=(2,2)))\n",
        "\n",
        "model.add(Conv2D(filters=256, kernel_size=(3,3), padding=\"same\", activation=\"relu\"))\n",
        "model.add(MaxPool2D(pool_size=(2,2),strides=(2,2)))\n",
        "\n",
        "model.add(Conv2D(filters=512, kernel_size=(3,3), padding=\"same\", activation=\"relu\"))\n",
        "model.add(MaxPool2D(pool_size=(2,2),strides=(2,2)))\n",
        "\n",
        "model.add(Flatten())\n",
        "model.add(Dropout(0.2))\n",
        "model.add(Dense(units=256,activation=\"relu\"))\n",
        "model.add(Dropout(0.2))\n",
        "model.add(Dense(units=10, activation=\"softmax\"))\n",
        "\n",
        "model.compile(loss = 'categorical_crossentropy', optimizer = optimizers.Adam(lr=1e-3), metrics = ['accuracy'])\n",
        "\n",
        "model.summary()"
      ]
    },
    {
      "cell_type": "code",
      "execution_count": 21,
      "metadata": {
        "colab": {
          "base_uri": "https://localhost:8080/"
        },
        "id": "MPVj6i5rcrah",
        "outputId": "228254e4-5223-4979-f7c7-7e4bf3382687"
      },
      "outputs": [
        {
          "output_type": "stream",
          "name": "stdout",
          "text": [
            "Epoch 1/10\n",
            "655/655 [==============================] - 333s 507ms/step - loss: 1.9295 - accuracy: 0.3217 - val_loss: 1.5628 - val_accuracy: 0.4576\n",
            "Epoch 2/10\n",
            "655/655 [==============================] - 330s 504ms/step - loss: 1.4445 - accuracy: 0.5037 - val_loss: 1.3439 - val_accuracy: 0.5355\n",
            "Epoch 3/10\n",
            "655/655 [==============================] - 332s 507ms/step - loss: 1.2424 - accuracy: 0.5714 - val_loss: 1.1228 - val_accuracy: 0.6146\n",
            "Epoch 4/10\n",
            "655/655 [==============================] - 326s 498ms/step - loss: 1.1275 - accuracy: 0.6105 - val_loss: 1.0418 - val_accuracy: 0.6356\n",
            "Epoch 5/10\n",
            "655/655 [==============================] - 328s 501ms/step - loss: 1.0471 - accuracy: 0.6451 - val_loss: 0.9935 - val_accuracy: 0.6650\n",
            "Epoch 6/10\n",
            "655/655 [==============================] - 332s 507ms/step - loss: 0.9963 - accuracy: 0.6596 - val_loss: 0.9768 - val_accuracy: 0.6662\n",
            "Epoch 7/10\n",
            "655/655 [==============================] - 331s 505ms/step - loss: 0.9505 - accuracy: 0.6757 - val_loss: 0.9029 - val_accuracy: 0.6914\n",
            "Epoch 8/10\n",
            "655/655 [==============================] - 327s 499ms/step - loss: 0.8991 - accuracy: 0.6964 - val_loss: 0.8730 - val_accuracy: 0.7086\n",
            "Epoch 9/10\n",
            "655/655 [==============================] - 327s 499ms/step - loss: 0.8666 - accuracy: 0.7073 - val_loss: 0.8293 - val_accuracy: 0.7223\n",
            "Epoch 10/10\n",
            "655/655 [==============================] - 327s 499ms/step - loss: 0.8384 - accuracy: 0.7197 - val_loss: 0.8024 - val_accuracy: 0.7334\n"
          ]
        }
      ],
      "source": [
        "# Fitting the model to data\n",
        "output = model.fit(train_data, epochs = 10, validation_data = valid_data, batch_size=64)"
      ]
    },
    {
      "cell_type": "code",
      "execution_count": 22,
      "metadata": {
        "colab": {
          "base_uri": "https://localhost:8080/"
        },
        "id": "jLBNTarJ6Zir",
        "outputId": "3d648800-2565-4660-d1c4-6e551d8e496e"
      },
      "outputs": [
        {
          "output_type": "stream",
          "name": "stdout",
          "text": [
            "82/82 [==============================] - 36s 440ms/step\n"
          ]
        }
      ],
      "source": [
        "probabilities = model.predict(test_data)"
      ]
    },
    {
      "cell_type": "code",
      "execution_count": 23,
      "metadata": {
        "colab": {
          "base_uri": "https://localhost:8080/",
          "height": 406
        },
        "id": "zV0GYP7Eh8A3",
        "outputId": "dd46dd38-f595-4326-e6cf-665cc9c5023a"
      },
      "outputs": [
        {
          "output_type": "stream",
          "name": "stdout",
          "text": [
            "[1.5628386735916138, 1.343948483467102, 1.1227824687957764, 1.0418307781219482, 0.9935117959976196, 0.9767757654190063, 0.9028790593147278, 0.8729721903800964, 0.8292688727378845, 0.8024240136146545]\n",
            "[0.4576012194156647, 0.5355232954025269, 0.6145913004875183, 0.635599672794342, 0.665011465549469, 0.6661573648452759, 0.6913674473762512, 0.7085561752319336, 0.7223070859909058, 0.7333842515945435]\n"
          ]
        },
        {
          "output_type": "display_data",
          "data": {
            "text/plain": [
              "<Figure size 1296x360 with 2 Axes>"
            ],
            "image/png": "[encoded data removed]"
          },
          "metadata": {
            "needs_background": "light"
          }
        }
      ],
      "source": [
        "#Graph the validation and training loss/accuracy\n",
        "loss_vals = output.history['loss']\n",
        "val_loss_vals = output.history['val_loss']\n",
        "epochs = range(1, len(output.history['accuracy'])+1)\n",
        "print(val_loss_vals)\n",
        "\n",
        "f, graphs = plt.subplots(nrows=1,ncols=2,figsize=(18,5))\n",
        "    \n",
        "graphs[0].plot(epochs, loss_vals,  marker='x', label='Training Loss')\n",
        "graphs[0].plot(epochs, val_loss_vals, marker='x', color = 'red', label='Validation Loss')\n",
        "graphs[0].set_title('Training & Validation Loss')\n",
        "graphs[0].set_xlabel('Epochs')\n",
        "graphs[0].set_ylabel('Loss')\n",
        "graphs[0].legend(loc='best')\n",
        "graphs[0].grid(True)\n",
        "\n",
        "acc_vals = output.history['accuracy']\n",
        "val_acc_vals = output.history['val_accuracy']\n",
        "print(val_acc_vals)\n",
        "graphs[1].plot(epochs, acc_vals, marker='x', label='Training Accuracy')\n",
        "graphs[1].plot(epochs, val_acc_vals, marker='x', color = 'red', label='Validation Accuracy')\n",
        "graphs[1].set_title('Training & Validation Accuracy')\n",
        "graphs[1].set_xlabel('Epochs')\n",
        "graphs[1].set_ylabel('Accuracy')\n",
        "graphs[1].legend(loc='best')\n",
        "graphs[1].grid(True)\n",
        "\n",
        "plt.show()\n",
        "plt.close()"
      ]
    },
    {
      "cell_type": "code",
      "execution_count": 27,
      "metadata": {
        "colab": {
          "base_uri": "https://localhost:8080/",
          "height": 371
        },
        "id": "SnjsL-Bph8TO",
        "outputId": "20ffa126-dedd-4ee1-ba43-72ae5f636b39"
      },
      "outputs": [
        {
          "output_type": "stream",
          "name": "stdout",
          "text": [
            "Found 0 non-validated image filenames belonging to 0 classes.\n"
          ]
        },
        {
          "output_type": "error",
          "ename": "ValueError",
          "evalue": "ignored",
          "traceback": [
            "\u001b[0;31m---------------------------------------------------------------------------\u001b[0m",
            "\u001b[0;31mValueError\u001b[0m                                Traceback (most recent call last)",
            "\u001b[0;32m<ipython-input-27-391cb1de6462>\u001b[0m in \u001b[0;36m<module>\u001b[0;34m\u001b[0m\n\u001b[1;32m      1\u001b[0m \u001b[0mtest2_flow\u001b[0m \u001b[0;34m=\u001b[0m \u001b[0mdatagen_test\u001b[0m\u001b[0;34m.\u001b[0m\u001b[0mflow_from_dataframe\u001b[0m\u001b[0;34m(\u001b[0m\u001b[0mdft\u001b[0m\u001b[0;34m,\u001b[0m \u001b[0mx_col\u001b[0m \u001b[0;34m=\u001b[0m \u001b[0;34m'Filepath'\u001b[0m\u001b[0;34m,\u001b[0m \u001b[0my_col\u001b[0m \u001b[0;34m=\u001b[0m \u001b[0;34m'Target'\u001b[0m\u001b[0;34m,\u001b[0m \u001b[0mtarget_size\u001b[0m\u001b[0;34m=\u001b[0m\u001b[0;34m(\u001b[0m\u001b[0;36m224\u001b[0m\u001b[0;34m,\u001b[0m \u001b[0;36m224\u001b[0m\u001b[0;34m)\u001b[0m\u001b[0;34m,\u001b[0m \u001b[0minterpolation\u001b[0m \u001b[0;34m=\u001b[0m \u001b[0;34m'lanczos'\u001b[0m\u001b[0;34m,\u001b[0m \u001b[0mvalidate_filenames\u001b[0m \u001b[0;34m=\u001b[0m \u001b[0;32mFalse\u001b[0m\u001b[0;34m)\u001b[0m\u001b[0;34m\u001b[0m\u001b[0;34m\u001b[0m\u001b[0m\n\u001b[0;32m----> 2\u001b[0;31m \u001b[0mscore\u001b[0m \u001b[0;34m=\u001b[0m \u001b[0mmodel\u001b[0m\u001b[0;34m.\u001b[0m\u001b[0mevaluate\u001b[0m\u001b[0;34m(\u001b[0m\u001b[0mtest2_flow\u001b[0m\u001b[0;34m)\u001b[0m\u001b[0;34m\u001b[0m\u001b[0;34m\u001b[0m\u001b[0m\n\u001b[0m",
            "\u001b[0;32m/usr/local/lib/python3.8/dist-packages/keras/utils/traceback_utils.py\u001b[0m in \u001b[0;36merror_handler\u001b[0;34m(*args, **kwargs)\u001b[0m\n\u001b[1;32m     65\u001b[0m     \u001b[0;32mexcept\u001b[0m \u001b[0mException\u001b[0m \u001b[0;32mas\u001b[0m \u001b[0me\u001b[0m\u001b[0;34m:\u001b[0m  \u001b[0;31m# pylint: disable=broad-except\u001b[0m\u001b[0;34m\u001b[0m\u001b[0;34m\u001b[0m\u001b[0m\n\u001b[1;32m     66\u001b[0m       \u001b[0mfiltered_tb\u001b[0m \u001b[0;34m=\u001b[0m \u001b[0m_process_traceback_frames\u001b[0m\u001b[0;34m(\u001b[0m\u001b[0me\u001b[0m\u001b[0;34m.\u001b[0m\u001b[0m__traceback__\u001b[0m\u001b[0;34m)\u001b[0m\u001b[0;34m\u001b[0m\u001b[0;34m\u001b[0m\u001b[0m\n\u001b[0;32m---> 67\u001b[0;31m       \u001b[0;32mraise\u001b[0m \u001b[0me\u001b[0m\u001b[0;34m.\u001b[0m\u001b[0mwith_traceback\u001b[0m\u001b[0;34m(\u001b[0m\u001b[0mfiltered_tb\u001b[0m\u001b[0;34m)\u001b[0m \u001b[0;32mfrom\u001b[0m \u001b[0;32mNone\u001b[0m\u001b[0;34m\u001b[0m\u001b[0;34m\u001b[0m\u001b[0m\n\u001b[0m\u001b[1;32m     68\u001b[0m     \u001b[0;32mfinally\u001b[0m\u001b[0;34m:\u001b[0m\u001b[0;34m\u001b[0m\u001b[0;34m\u001b[0m\u001b[0m\n\u001b[1;32m     69\u001b[0m       \u001b[0;32mdel\u001b[0m \u001b[0mfiltered_tb\u001b[0m\u001b[0;34m\u001b[0m\u001b[0;34m\u001b[0m\u001b[0m\n",
            "\u001b[0;32m/usr/local/lib/python3.8/dist-packages/keras/preprocessing/image.py\u001b[0m in \u001b[0;36m__getitem__\u001b[0;34m(self, idx)\u001b[0m\n\u001b[1;32m     98\u001b[0m   \u001b[0;32mdef\u001b[0m \u001b[0m__getitem__\u001b[0m\u001b[0;34m(\u001b[0m\u001b[0mself\u001b[0m\u001b[0;34m,\u001b[0m \u001b[0midx\u001b[0m\u001b[0;34m)\u001b[0m\u001b[0;34m:\u001b[0m\u001b[0;34m\u001b[0m\u001b[0;34m\u001b[0m\u001b[0m\n\u001b[1;32m     99\u001b[0m     \u001b[0;32mif\u001b[0m \u001b[0midx\u001b[0m \u001b[0;34m>=\u001b[0m \u001b[0mlen\u001b[0m\u001b[0;34m(\u001b[0m\u001b[0mself\u001b[0m\u001b[0;34m)\u001b[0m\u001b[0;34m:\u001b[0m\u001b[0;34m\u001b[0m\u001b[0;34m\u001b[0m\u001b[0m\n\u001b[0;32m--> 100\u001b[0;31m       raise ValueError('Asked to retrieve element {idx}, '\n\u001b[0m\u001b[1;32m    101\u001b[0m                        \u001b[0;34m'but the Sequence '\u001b[0m\u001b[0;34m\u001b[0m\u001b[0;34m\u001b[0m\u001b[0m\n\u001b[1;32m    102\u001b[0m                        'has length {length}'.format(idx=idx, length=len(self)))\n",
            "\u001b[0;31mValueError\u001b[0m: Asked to retrieve element 0, but the Sequence has length 0"
          ]
        }
      ],
      "source": [
        "test2_flow = datagen_test.flow_from_dataframe(dft, x_col = 'Filepath', y_col = 'Target', target_size=(224, 224), interpolation = 'lanczos', validate_filenames = False)\n",
        "score = model.evaluate(test2_flow)"
      ]
    }
  ],
  "metadata": {
    "accelerator": "GPU",
    "colab": {
      "machine_shape": "hm",
      "provenance": []
    },
    "gpuClass": "premium",
    "kernelspec": {
      "display_name": "Python 3",
      "name": "python3"
    },
    "language_info": {
      "name": "python"
    }
  },
  "nbformat": 4,
  "nbformat_minor": 0
}